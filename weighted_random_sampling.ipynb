{
 "cells": [
  {
   "cell_type": "code",
   "execution_count": 60,
   "metadata": {},
   "outputs": [],
   "source": [
    "import numpy as np\n",
    "import pandas as pd"
   ]
  },
  {
   "cell_type": "code",
   "execution_count": 83,
   "metadata": {},
   "outputs": [
    {
     "data": {
      "text/html": [
       "<div>\n",
       "<style scoped>\n",
       "    .dataframe tbody tr th:only-of-type {\n",
       "        vertical-align: middle;\n",
       "    }\n",
       "\n",
       "    .dataframe tbody tr th {\n",
       "        vertical-align: top;\n",
       "    }\n",
       "\n",
       "    .dataframe thead th {\n",
       "        text-align: right;\n",
       "    }\n",
       "</style>\n",
       "<table border=\"1\" class=\"dataframe\">\n",
       "  <thead>\n",
       "    <tr style=\"text-align: right;\">\n",
       "      <th></th>\n",
       "      <th>hshd</th>\n",
       "      <th>product</th>\n",
       "      <th>category</th>\n",
       "      <th>category_id</th>\n",
       "      <th>cond_prob</th>\n",
       "    </tr>\n",
       "  </thead>\n",
       "  <tbody>\n",
       "    <tr>\n",
       "      <th>0</th>\n",
       "      <td>Phil</td>\n",
       "      <td>pb</td>\n",
       "      <td>center_store</td>\n",
       "      <td>1</td>\n",
       "      <td>0.456002</td>\n",
       "    </tr>\n",
       "    <tr>\n",
       "      <th>1</th>\n",
       "      <td>Phil</td>\n",
       "      <td>jelly</td>\n",
       "      <td>center_store</td>\n",
       "      <td>1</td>\n",
       "      <td>0.182978</td>\n",
       "    </tr>\n",
       "    <tr>\n",
       "      <th>2</th>\n",
       "      <td>Phil</td>\n",
       "      <td>crackers</td>\n",
       "      <td>center_store</td>\n",
       "      <td>1</td>\n",
       "      <td>0.157380</td>\n",
       "    </tr>\n",
       "    <tr>\n",
       "      <th>4</th>\n",
       "      <td>Phil</td>\n",
       "      <td>oranges</td>\n",
       "      <td>produce</td>\n",
       "      <td>2</td>\n",
       "      <td>0.964631</td>\n",
       "    </tr>\n",
       "    <tr>\n",
       "      <th>6</th>\n",
       "      <td>Phil</td>\n",
       "      <td>carrots</td>\n",
       "      <td>produce</td>\n",
       "      <td>2</td>\n",
       "      <td>0.768404</td>\n",
       "    </tr>\n",
       "    <tr>\n",
       "      <th>5</th>\n",
       "      <td>Phil</td>\n",
       "      <td>spinach</td>\n",
       "      <td>produce</td>\n",
       "      <td>2</td>\n",
       "      <td>0.537897</td>\n",
       "    </tr>\n",
       "    <tr>\n",
       "      <th>3</th>\n",
       "      <td>Phil</td>\n",
       "      <td>kale</td>\n",
       "      <td>produce</td>\n",
       "      <td>2</td>\n",
       "      <td>0.281130</td>\n",
       "    </tr>\n",
       "    <tr>\n",
       "      <th>8</th>\n",
       "      <td>Phil</td>\n",
       "      <td>frzn enchilladas</td>\n",
       "      <td>frozen</td>\n",
       "      <td>3</td>\n",
       "      <td>0.878209</td>\n",
       "    </tr>\n",
       "    <tr>\n",
       "      <th>9</th>\n",
       "      <td>Phil</td>\n",
       "      <td>halo top</td>\n",
       "      <td>frozen</td>\n",
       "      <td>3</td>\n",
       "      <td>0.193273</td>\n",
       "    </tr>\n",
       "    <tr>\n",
       "      <th>7</th>\n",
       "      <td>Phil</td>\n",
       "      <td>frzn pizza</td>\n",
       "      <td>frozen</td>\n",
       "      <td>3</td>\n",
       "      <td>0.021500</td>\n",
       "    </tr>\n",
       "  </tbody>\n",
       "</table>\n",
       "</div>"
      ],
      "text/plain": [
       "   hshd           product      category  category_id  cond_prob\n",
       "0  Phil                pb  center_store            1   0.456002\n",
       "1  Phil             jelly  center_store            1   0.182978\n",
       "2  Phil          crackers  center_store            1   0.157380\n",
       "4  Phil           oranges       produce            2   0.964631\n",
       "6  Phil           carrots       produce            2   0.768404\n",
       "5  Phil           spinach       produce            2   0.537897\n",
       "3  Phil              kale       produce            2   0.281130\n",
       "8  Phil  frzn enchilladas        frozen            3   0.878209\n",
       "9  Phil          halo top        frozen            3   0.193273\n",
       "7  Phil        frzn pizza        frozen            3   0.021500"
      ]
     },
     "execution_count": 83,
     "metadata": {},
     "output_type": "execute_result"
    }
   ],
   "source": [
    "# simulate a potential recommendation set\n",
    "np.random.seed(1740)\n",
    "pre_df = {'hshd':np.repeat('Phil', 10)\n",
    "         , 'product': ['pb', 'jelly', 'crackers', 'kale', 'oranges', 'spinach', 'carrots', 'frzn pizza', 'frzn enchilladas', 'halo top']\n",
    "          , 'category' : np.hstack((np.repeat('center_store', 3), np.repeat('produce', 4), np.repeat('frozen', 3)))\n",
    "          , 'category_id' : [1,1,1,2,2,2,2,3,3,3]\n",
    "          , 'cond_prob': np.random.beta(1,2, 10)\n",
    "         }\n",
    "\n",
    "pre_sort = pd.DataFrame(pre_df)\n",
    "df = pre_sort.sort_values(['category_id', 'cond_prob'], ascending=[True, False])\n",
    "df"
   ]
  },
  {
   "cell_type": "code",
   "execution_count": 100,
   "metadata": {},
   "outputs": [
    {
     "data": {
      "text/plain": [
       "array([1, 2, 2])"
      ]
     },
     "execution_count": 100,
     "metadata": {},
     "output_type": "execute_result"
    }
   ],
   "source": [
    "# select 3 products for recommendation\n",
    "np.random.seed(1742)\n",
    "# indexes from 1 - sry\n",
    "np.random.choice(3, 3\n",
    "     , p=[0.1, 0.7, 0.2]) + 1 \n"
   ]
  },
  {
   "cell_type": "markdown",
   "metadata": {},
   "source": [
    "From the above, we can see that we will keep the first recommendation from the first category (center_store) and the first two recommendations from the second category (produce)"
   ]
  },
  {
   "cell_type": "code",
   "execution_count": 134,
   "metadata": {},
   "outputs": [],
   "source": [
    "# this solution does not generalize\n",
    "one = df[df.category_id==1].iloc[0]\n",
    "two = df[df.category_id==2].iloc[0]\n",
    "three = df[df.category_id==2].iloc[1]"
   ]
  },
  {
   "cell_type": "code",
   "execution_count": 135,
   "metadata": {},
   "outputs": [
    {
     "data": {
      "text/html": [
       "<div>\n",
       "<style scoped>\n",
       "    .dataframe tbody tr th:only-of-type {\n",
       "        vertical-align: middle;\n",
       "    }\n",
       "\n",
       "    .dataframe tbody tr th {\n",
       "        vertical-align: top;\n",
       "    }\n",
       "\n",
       "    .dataframe thead th {\n",
       "        text-align: right;\n",
       "    }\n",
       "</style>\n",
       "<table border=\"1\" class=\"dataframe\">\n",
       "  <thead>\n",
       "    <tr style=\"text-align: right;\">\n",
       "      <th></th>\n",
       "      <th>hshd</th>\n",
       "      <th>product</th>\n",
       "      <th>category</th>\n",
       "      <th>category_id</th>\n",
       "      <th>cond_prob</th>\n",
       "    </tr>\n",
       "  </thead>\n",
       "  <tbody>\n",
       "    <tr>\n",
       "      <th>0</th>\n",
       "      <td>Phil</td>\n",
       "      <td>pb</td>\n",
       "      <td>center_store</td>\n",
       "      <td>1</td>\n",
       "      <td>0.456002</td>\n",
       "    </tr>\n",
       "    <tr>\n",
       "      <th>4</th>\n",
       "      <td>Phil</td>\n",
       "      <td>oranges</td>\n",
       "      <td>produce</td>\n",
       "      <td>2</td>\n",
       "      <td>0.964631</td>\n",
       "    </tr>\n",
       "    <tr>\n",
       "      <th>6</th>\n",
       "      <td>Phil</td>\n",
       "      <td>carrots</td>\n",
       "      <td>produce</td>\n",
       "      <td>2</td>\n",
       "      <td>0.768404</td>\n",
       "    </tr>\n",
       "  </tbody>\n",
       "</table>\n",
       "</div>"
      ],
      "text/plain": [
       "   hshd  product      category  category_id  cond_prob\n",
       "0  Phil       pb  center_store            1   0.456002\n",
       "4  Phil  oranges       produce            2   0.964631\n",
       "6  Phil  carrots       produce            2   0.768404"
      ]
     },
     "execution_count": 135,
     "metadata": {},
     "output_type": "execute_result"
    }
   ],
   "source": [
    "final_recos = pd.DataFrame([one, two, three])\n",
    "final_recos"
   ]
  }
 ],
 "metadata": {
  "kernelspec": {
   "display_name": "Python [conda env:models]",
   "language": "python",
   "name": "conda-env-models-py"
  },
  "language_info": {
   "codemirror_mode": {
    "name": "ipython",
    "version": 3
   },
   "file_extension": ".py",
   "mimetype": "text/x-python",
   "name": "python",
   "nbconvert_exporter": "python",
   "pygments_lexer": "ipython3",
   "version": "3.6.5"
  }
 },
 "nbformat": 4,
 "nbformat_minor": 2
}
