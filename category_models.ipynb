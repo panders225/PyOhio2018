{
 "cells": [
  {
   "cell_type": "code",
   "execution_count": 2,
   "metadata": {},
   "outputs": [],
   "source": [
    "import numpy as np\n",
    "import pandas as pd\n",
    "from sklearn.linear_model import LogisticRegressionCV"
   ]
  },
  {
   "cell_type": "code",
   "execution_count": 3,
   "metadata": {},
   "outputs": [],
   "source": [
    "trans_pull = pd.read_csv('/Users/p765663/Documents/programming/pyohio_work/uci_wine_truncated.csv')\n",
    "trans_pull = trans_pull.dropna()"
   ]
  },
  {
   "cell_type": "code",
   "execution_count": 84,
   "metadata": {},
   "outputs": [],
   "source": [
    "new_cols = ['class'\n",
    "              , 'dept_sales'\n",
    "              , 'checkout_sales'\n",
    "              , 'fuel_visits'\n",
    "              , 'clicklist'\n",
    "              , 'digital_engagement'\n",
    "              , 'wait_time'\n",
    "              , 'frozen_sales'\n",
    "              , 'fresh_visits'\n",
    "              , 'value_store'\n",
    "              , 'vegan_index'\n",
    "              , 'natural_foods'\n",
    "              , 'traditional_index'\n",
    "              , 'produce'\n",
    "             ]\n",
    "trans_pull.columns = new_cols"
   ]
  },
  {
   "cell_type": "code",
   "execution_count": 5,
   "metadata": {},
   "outputs": [
    {
     "data": {
      "text/html": [
       "<div>\n",
       "<style scoped>\n",
       "    .dataframe tbody tr th:only-of-type {\n",
       "        vertical-align: middle;\n",
       "    }\n",
       "\n",
       "    .dataframe tbody tr th {\n",
       "        vertical-align: top;\n",
       "    }\n",
       "\n",
       "    .dataframe thead th {\n",
       "        text-align: right;\n",
       "    }\n",
       "</style>\n",
       "<table border=\"1\" class=\"dataframe\">\n",
       "  <thead>\n",
       "    <tr style=\"text-align: right;\">\n",
       "      <th></th>\n",
       "      <th>class</th>\n",
       "      <th>dept_sales</th>\n",
       "      <th>checkout_sales</th>\n",
       "      <th>fuel_visits</th>\n",
       "      <th>clicklist</th>\n",
       "      <th>digital_engagement</th>\n",
       "      <th>wait_time</th>\n",
       "      <th>frozen_sales</th>\n",
       "      <th>fresh_visits</th>\n",
       "      <th>value_store</th>\n",
       "      <th>vegan_index</th>\n",
       "      <th>natural_foods</th>\n",
       "      <th>traditional_index</th>\n",
       "      <th>produce</th>\n",
       "    </tr>\n",
       "  </thead>\n",
       "  <tbody>\n",
       "    <tr>\n",
       "      <th>0</th>\n",
       "      <td>0.0</td>\n",
       "      <td>14.23</td>\n",
       "      <td>1.71</td>\n",
       "      <td>2.43</td>\n",
       "      <td>15.6</td>\n",
       "      <td>127.0</td>\n",
       "      <td>2.80</td>\n",
       "      <td>3.06</td>\n",
       "      <td>0.28</td>\n",
       "      <td>2.29</td>\n",
       "      <td>5.64</td>\n",
       "      <td>1.04</td>\n",
       "      <td>3.92</td>\n",
       "      <td>1065.0</td>\n",
       "    </tr>\n",
       "    <tr>\n",
       "      <th>1</th>\n",
       "      <td>0.0</td>\n",
       "      <td>13.20</td>\n",
       "      <td>1.78</td>\n",
       "      <td>2.14</td>\n",
       "      <td>11.2</td>\n",
       "      <td>100.0</td>\n",
       "      <td>2.65</td>\n",
       "      <td>2.76</td>\n",
       "      <td>0.26</td>\n",
       "      <td>1.28</td>\n",
       "      <td>4.38</td>\n",
       "      <td>1.05</td>\n",
       "      <td>3.40</td>\n",
       "      <td>1050.0</td>\n",
       "    </tr>\n",
       "    <tr>\n",
       "      <th>2</th>\n",
       "      <td>0.0</td>\n",
       "      <td>13.16</td>\n",
       "      <td>2.36</td>\n",
       "      <td>2.67</td>\n",
       "      <td>18.6</td>\n",
       "      <td>101.0</td>\n",
       "      <td>2.80</td>\n",
       "      <td>3.24</td>\n",
       "      <td>0.30</td>\n",
       "      <td>2.81</td>\n",
       "      <td>5.68</td>\n",
       "      <td>1.03</td>\n",
       "      <td>3.17</td>\n",
       "      <td>1185.0</td>\n",
       "    </tr>\n",
       "    <tr>\n",
       "      <th>3</th>\n",
       "      <td>0.0</td>\n",
       "      <td>14.37</td>\n",
       "      <td>1.95</td>\n",
       "      <td>2.50</td>\n",
       "      <td>16.8</td>\n",
       "      <td>113.0</td>\n",
       "      <td>3.85</td>\n",
       "      <td>3.49</td>\n",
       "      <td>0.24</td>\n",
       "      <td>2.18</td>\n",
       "      <td>7.80</td>\n",
       "      <td>0.86</td>\n",
       "      <td>3.45</td>\n",
       "      <td>1480.0</td>\n",
       "    </tr>\n",
       "    <tr>\n",
       "      <th>4</th>\n",
       "      <td>0.0</td>\n",
       "      <td>13.24</td>\n",
       "      <td>2.59</td>\n",
       "      <td>2.87</td>\n",
       "      <td>21.0</td>\n",
       "      <td>118.0</td>\n",
       "      <td>2.80</td>\n",
       "      <td>2.69</td>\n",
       "      <td>0.39</td>\n",
       "      <td>1.82</td>\n",
       "      <td>4.32</td>\n",
       "      <td>1.04</td>\n",
       "      <td>2.93</td>\n",
       "      <td>735.0</td>\n",
       "    </tr>\n",
       "  </tbody>\n",
       "</table>\n",
       "</div>"
      ],
      "text/plain": [
       "   class  dept_sales  checkout_sales  fuel_visits  clicklist  \\\n",
       "0    0.0       14.23            1.71         2.43       15.6   \n",
       "1    0.0       13.20            1.78         2.14       11.2   \n",
       "2    0.0       13.16            2.36         2.67       18.6   \n",
       "3    0.0       14.37            1.95         2.50       16.8   \n",
       "4    0.0       13.24            2.59         2.87       21.0   \n",
       "\n",
       "   digital_engagement  wait_time  frozen_sales  fresh_visits  value_store  \\\n",
       "0               127.0       2.80          3.06          0.28         2.29   \n",
       "1               100.0       2.65          2.76          0.26         1.28   \n",
       "2               101.0       2.80          3.24          0.30         2.81   \n",
       "3               113.0       3.85          3.49          0.24         2.18   \n",
       "4               118.0       2.80          2.69          0.39         1.82   \n",
       "\n",
       "   vegan_index  natural_foods  traditional_index  produce  \n",
       "0         5.64           1.04               3.92   1065.0  \n",
       "1         4.38           1.05               3.40   1050.0  \n",
       "2         5.68           1.03               3.17   1185.0  \n",
       "3         7.80           0.86               3.45   1480.0  \n",
       "4         4.32           1.04               2.93    735.0  "
      ]
     },
     "execution_count": 5,
     "metadata": {},
     "output_type": "execute_result"
    }
   ],
   "source": [
    "trans_pull.head()"
   ]
  },
  {
   "cell_type": "code",
   "execution_count": 34,
   "metadata": {},
   "outputs": [
    {
     "name": "stderr",
     "output_type": "stream",
     "text": [
      "/anaconda3/envs/models/lib/python3.6/site-packages/sklearn/linear_model/sag.py:326: ConvergenceWarning: The max_iter was reached which means the coef_ did not converge\n",
      "  \"the coef_ did not converge\", ConvergenceWarning)\n"
     ]
    },
    {
     "data": {
      "text/plain": [
       "LogisticRegressionCV(Cs=10, class_weight=None, cv=None, dual=False,\n",
       "           fit_intercept=True, intercept_scaling=1.0, max_iter=100,\n",
       "           multi_class='ovr', n_jobs=1, penalty='l1', random_state=None,\n",
       "           refit=True, scoring=None, solver='saga', tol=0.0001, verbose=0)"
      ]
     },
     "execution_count": 34,
     "metadata": {},
     "output_type": "execute_result"
    }
   ],
   "source": [
    "# response vector\n",
    "y_mat = trans_pull['class']\n",
    "# design matrix\n",
    "X_mat = trans_pull.drop('class', axis=1)\n",
    "\n",
    "# specify model\n",
    "logit_L1 = LogisticRegressionCV(penalty='l1', solver='saga', fit_intercept=True)\n",
    "\n",
    "# train model\n",
    "logit_L1.fit(X=X_mat\n",
    "            , y=y_mat\n",
    "            )"
   ]
  },
  {
   "cell_type": "code",
   "execution_count": 87,
   "metadata": {},
   "outputs": [],
   "source": [
    "score_cols = new_cols\n",
    "score_cols[0] = 'intercept'"
   ]
  },
  {
   "cell_type": "code",
   "execution_count": 75,
   "metadata": {},
   "outputs": [],
   "source": [
    "test = pd.DataFrame(np.asarray(score_cols)).transpose()"
   ]
  },
  {
   "cell_type": "code",
   "execution_count": 105,
   "metadata": {},
   "outputs": [],
   "source": [
    "test2 = pd.DataFrame(np.append(logit_L1.intercept_, logit_L1.coef_)).transpose()"
   ]
  },
  {
   "cell_type": "code",
   "execution_count": 108,
   "metadata": {},
   "outputs": [],
   "source": [
    "lasso_scores = pd.concat([test, test2]).transpose()\n",
    "lasso_scores.columns = ['coefficient', 'weight']"
   ]
  },
  {
   "cell_type": "code",
   "execution_count": 109,
   "metadata": {},
   "outputs": [
    {
     "data": {
      "text/html": [
       "<div>\n",
       "<style scoped>\n",
       "    .dataframe tbody tr th:only-of-type {\n",
       "        vertical-align: middle;\n",
       "    }\n",
       "\n",
       "    .dataframe tbody tr th {\n",
       "        vertical-align: top;\n",
       "    }\n",
       "\n",
       "    .dataframe thead th {\n",
       "        text-align: right;\n",
       "    }\n",
       "</style>\n",
       "<table border=\"1\" class=\"dataframe\">\n",
       "  <thead>\n",
       "    <tr style=\"text-align: right;\">\n",
       "      <th></th>\n",
       "      <th>coefficient</th>\n",
       "      <th>weight</th>\n",
       "    </tr>\n",
       "  </thead>\n",
       "  <tbody>\n",
       "    <tr>\n",
       "      <th>0</th>\n",
       "      <td>intercept</td>\n",
       "      <td>0.00127911</td>\n",
       "    </tr>\n",
       "    <tr>\n",
       "      <th>1</th>\n",
       "      <td>dept_sales</td>\n",
       "      <td>0.00725816</td>\n",
       "    </tr>\n",
       "    <tr>\n",
       "      <th>2</th>\n",
       "      <td>checkout_sales</td>\n",
       "      <td>0</td>\n",
       "    </tr>\n",
       "    <tr>\n",
       "      <th>3</th>\n",
       "      <td>fuel_visits</td>\n",
       "      <td>0.000236467</td>\n",
       "    </tr>\n",
       "    <tr>\n",
       "      <th>4</th>\n",
       "      <td>clicklist</td>\n",
       "      <td>0.0312337</td>\n",
       "    </tr>\n",
       "    <tr>\n",
       "      <th>5</th>\n",
       "      <td>digital_engagement</td>\n",
       "      <td>0.0800161</td>\n",
       "    </tr>\n",
       "    <tr>\n",
       "      <th>6</th>\n",
       "      <td>wait_time</td>\n",
       "      <td>0</td>\n",
       "    </tr>\n",
       "    <tr>\n",
       "      <th>7</th>\n",
       "      <td>frozen_sales</td>\n",
       "      <td>0</td>\n",
       "    </tr>\n",
       "    <tr>\n",
       "      <th>8</th>\n",
       "      <td>fresh_visits</td>\n",
       "      <td>0</td>\n",
       "    </tr>\n",
       "    <tr>\n",
       "      <th>9</th>\n",
       "      <td>value_store</td>\n",
       "      <td>0</td>\n",
       "    </tr>\n",
       "    <tr>\n",
       "      <th>10</th>\n",
       "      <td>vegan_index</td>\n",
       "      <td>-0.000839215</td>\n",
       "    </tr>\n",
       "    <tr>\n",
       "      <th>11</th>\n",
       "      <td>natural_foods</td>\n",
       "      <td>0.000132596</td>\n",
       "    </tr>\n",
       "    <tr>\n",
       "      <th>12</th>\n",
       "      <td>traditional_index</td>\n",
       "      <td>0.000205783</td>\n",
       "    </tr>\n",
       "    <tr>\n",
       "      <th>13</th>\n",
       "      <td>produce</td>\n",
       "      <td>-0.0113549</td>\n",
       "    </tr>\n",
       "  </tbody>\n",
       "</table>\n",
       "</div>"
      ],
      "text/plain": [
       "           coefficient       weight\n",
       "0            intercept   0.00127911\n",
       "1           dept_sales   0.00725816\n",
       "2       checkout_sales            0\n",
       "3          fuel_visits  0.000236467\n",
       "4            clicklist    0.0312337\n",
       "5   digital_engagement    0.0800161\n",
       "6            wait_time            0\n",
       "7         frozen_sales            0\n",
       "8         fresh_visits            0\n",
       "9          value_store            0\n",
       "10         vegan_index -0.000839215\n",
       "11       natural_foods  0.000132596\n",
       "12   traditional_index  0.000205783\n",
       "13             produce   -0.0113549"
      ]
     },
     "execution_count": 109,
     "metadata": {},
     "output_type": "execute_result"
    }
   ],
   "source": [
    "lasso_scores"
   ]
  },
  {
   "cell_type": "code",
   "execution_count": 3,
   "metadata": {},
   "outputs": [
    {
     "name": "stdout",
     "output_type": "stream",
     "text": [
      "Initial Probability Vector:  [0.24718318 0.70720021 0.72765553 0.44566607 0.26186603]\n"
     ]
    }
   ],
   "source": [
    "np.random.seed(1738) # for replicability\n",
    "hold_em = np.random.beta(2,2,5)\n",
    "print(\"Initial Probability Vector: \", hold_em)"
   ]
  },
  {
   "cell_type": "code",
   "execution_count": 4,
   "metadata": {},
   "outputs": [
    {
     "name": "stdout",
     "output_type": "stream",
     "text": [
      "Magnitude of Probability Vector:  2.3895710237088985\n"
     ]
    }
   ],
   "source": [
    "print(\"Magnitude of Probability Vector: \", np.sum(hold_em))"
   ]
  },
  {
   "cell_type": "code",
   "execution_count": 5,
   "metadata": {},
   "outputs": [
    {
     "name": "stdout",
     "output_type": "stream",
     "text": [
      "Normalized Vector:  [0.10344249 0.29595279 0.30451304 0.18650463 0.10958705]\n"
     ]
    }
   ],
   "source": [
    "hold_em_normal = hold_em / np.sum(hold_em)\n",
    "print(\"Normalized Vector: \", hold_em_normal)"
   ]
  },
  {
   "cell_type": "code",
   "execution_count": 6,
   "metadata": {},
   "outputs": [
    {
     "name": "stdout",
     "output_type": "stream",
     "text": [
      "Magnitude of Probability Vector:  1.0\n"
     ]
    }
   ],
   "source": [
    "print('Magnitude of Probability Vector: ', np.sum(hold_em_normal))"
   ]
  }
 ],
 "metadata": {
  "kernelspec": {
   "display_name": "Python 3",
   "language": "python",
   "name": "python3"
  },
  "language_info": {
   "codemirror_mode": {
    "name": "ipython",
    "version": 3
   },
   "file_extension": ".py",
   "mimetype": "text/x-python",
   "name": "python",
   "nbconvert_exporter": "python",
   "pygments_lexer": "ipython3",
   "version": "3.6.4"
  }
 },
 "nbformat": 4,
 "nbformat_minor": 2
}
